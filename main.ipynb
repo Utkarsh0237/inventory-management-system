{
 "cells": [
  {
   "cell_type": "code",
   "execution_count": 148,
   "id": "b8f9cc11",
   "metadata": {},
   "outputs": [],
   "source": [
    "            #    product                   category              price        quatity       expiry date"
   ]
  },
  {
   "cell_type": "code",
   "execution_count": 69,
   "id": "6e4399fd",
   "metadata": {},
   "outputs": [],
   "source": [
    "records={202101:{'Product':'Dairy Milk', 'Category':'Chocolate','Price':20,'Quantity':50,'Expiry Date':2022},\n",
    "         202102:{'Product':'kitkat',     'Category':'Chocolate','Price':10,'Quantity': 40 ,'Expiry Date':2022},\n",
    "         202103:{'Product':'5 Star',     'Category':'Chocolate','Price':30,'Quantity':40,'Expiry Date':2022},\n",
    "         202104:{'Product':'Sneakers',   'Category':'Chocolate','Price':30,'Quantity':50,'Expiry Date':2022},\n",
    "         202104:{'Product':'Bournville', 'Category':'Chocolate','Price':100,'Quantity':50,'Expiry Date':2022},\n",
    "         202105:{'Product':'Perk',       'Category':'Chocolate','Price':5,'Quantity':50,  'Expiry Date':2022},\n",
    "         202106:{'Product':'Lays',       'Category':'Chips',    'Price':20,'Quantity':30,'Expiry Date':2023},\n",
    "         202108:{'Product':'rice',    'Category':'grans',    'Price':50,'Quantity':60,'Expiry Date':2023},\n",
    "        202109:{'Product':'wheat',    'Category':'grains',    'Price':60,'Quantity':60,'Expiry Date':2023},\n",
    "        202110:{'Product':'coca cola',    'Category':'juice',    'Price':45,'Quantity':60,'Expiry Date':2023},\n",
    "        202111:{'Product':'pepsi',    'Category':'juice',    'Price':45,'Quantity':60,'Expiry Date':2023},\n",
    "        202112:{'Product':'lassi',    'Category':'juice',    'Price':60,'Quantity':60,'Expiry Date':2034},\n",
    "        202113:{'Product':'shirt',    'Category':'clothes',    'Price':600,'Quantity':60,'Expiry Date':\"no\"},\n",
    "        202114:{'Product':'jeans',    'Category':'clothes',    'Price':1500,'Quantity':60,'Expiry Date':\"no\"},\n",
    "        202115:{'Product':'pant',    'Category':'clothes',    'Price':500,'Quantity':60,'Expiry Date':\"no\"},\n",
    "        202116:{'Product':'coat',    'Category':'clothes',    'Price':1000,'Quantity':60,'Expiry Date':\"no\"},\n",
    "        202117:{'Product':'scarf',    'Category':'clothes',    'Price':100,'Quantity':60,'Expiry Date':\"no\"},\n",
    "        202118:{'Product':'badminton', 'Category':'toys',    'Price':300,'Quantity':60,'Expiry Date':\"no\"},\n",
    "        202119:{'Product':'cricket kit','Category':'toys',    'Price':200,'Quantity':60,'Expiry Date':\"no\"},\n",
    "        202120:{'Product':'ball',      'Category':'toys',    'Price':50,'Quantity':60,'Expiry Date':\"no\"},\n",
    "        202121:{'Product':'hockey',    'Category':'toys',    'Price':100,'Quantity':60,'Expiry Date':\"no\"},\n",
    "        202122:{'Product':'box',        'Category':'stationary',    'Price':50,'Quantity':60,'Expiry Date':\"no\"},\n",
    "        202123:{'Product':'pencil',    'Category':'stationary',    'Price':30,'Quantity':60,'Expiry Date':\"no\"},\n",
    "        202124:{'Product':'drawing book',    'Category':'stationary',    'Price':3540,'Quantity':60,'Expiry Date':\"no\"},\n",
    "        202125:{'Product':'stationary box',    'Category':'stationary',    'Price':30,'Quantity':60,'Expiry Date':\"no\"},\n",
    "        202126:{'Product':'candles',    'Category':'decoration',    'Price':35,'Quantity':60,'Expiry Date':2023},\n",
    "        202127:{'Product':'lighting',    'Category':'decoration',    'Price':65,'Quantity':60,'Expiry Date':2023},\n",
    "        202128:{'Product':'bed sheet',    'Category':'clothes',    'Price':1000,'Quantity':60,'Expiry Date':\"no\"},\n",
    "        202129:{'Product':'pillow',    'Category':'clothes',    'Price':350,'Quantity':60,'Expiry Date':\"no\"},\n",
    "        202129:{'Product':'curtains',    'Category':'clothes',    'Price':490,'Quantity':60,'Expiry Date':\"no\"}}\n",
    "        "
   ]
  },
  {
   "cell_type": "code",
   "execution_count": 70,
   "id": "54910d3f",
   "metadata": {},
   "outputs": [],
   "source": [
    "sale={}"
   ]
  },
  {
   "cell_type": "code",
   "execution_count": 71,
   "id": "c468a01d",
   "metadata": {},
   "outputs": [],
   "source": [
    "import json"
   ]
  },
  {
   "cell_type": "code",
   "execution_count": 72,
   "id": "cbd6f20f",
   "metadata": {},
   "outputs": [],
   "source": [
    "js=json.dumps(records)"
   ]
  },
  {
   "cell_type": "code",
   "execution_count": 73,
   "id": "cc5f7b36",
   "metadata": {},
   "outputs": [],
   "source": [
    "fd=open(\"Record1.json\",'w')\n",
    "txt=fd.write(js)\n",
    "fd.close()\n"
   ]
  },
  {
   "cell_type": "code",
   "execution_count": 74,
   "id": "bdbe4611",
   "metadata": {},
   "outputs": [],
   "source": [
    "\n",
    "fd=open(\"Record1.json\",'r')\n",
    "txt=fd.read()\n",
    "fd.close()"
   ]
  },
  {
   "cell_type": "code",
   "execution_count": 75,
   "id": "87be9c50",
   "metadata": {},
   "outputs": [],
   "source": [
    "records=json.loads(js)"
   ]
  },
  {
   "cell_type": "code",
   "execution_count": 76,
   "id": "6aa155a8",
   "metadata": {},
   "outputs": [],
   "source": [
    "def salesInfo():\n",
    "    \n",
    "    #category ,quant sold,amount\n",
    "    sales= {}\n",
    "    sale['Prod']=records[pro_id]['Product']\n",
    "    sale['Categ']= records[pro_id]['Category'] \n",
    "    sale['Quantity']= quant\n",
    "    sale['amount taken']=p\n",
    "    sale['time']= time.ctime()"
   ]
  },
  {
   "cell_type": "code",
   "execution_count": 77,
   "id": "e25601d8",
   "metadata": {},
   "outputs": [],
   "source": [
    "  def storeInJson():\n",
    "        js=json.dumps(records)\n",
    "        fd=open(\"Record1.json\",'w')\n",
    "        txt=fd.write(js)\n",
    "        fd.close()"
   ]
  },
  {
   "cell_type": "markdown",
   "id": "4aaea44c",
   "metadata": {},
   "source": [
    "\n",
    "\n"
   ]
  },
  {
   "cell_type": "code",
   "execution_count": 78,
   "id": "5fe009f6",
   "metadata": {},
   "outputs": [],
   "source": [
    "import time"
   ]
  },
  {
   "cell_type": "code",
   "execution_count": null,
   "id": "6821dc67",
   "metadata": {},
   "outputs": [],
   "source": []
  },
  {
   "cell_type": "code",
   "execution_count": 81,
   "id": "5534964c",
   "metadata": {},
   "outputs": [
    {
     "name": "stdout",
     "output_type": "stream",
     "text": [
      "here is the list of items available\n",
      "***************************************************\n",
      "1 Dairy Milk\n",
      "2 kitkat\n",
      "3 5 Star\n",
      "4 Bournville\n",
      "5 Perk\n",
      "6 Lays\n",
      "7 rice\n",
      "8 wheat\n",
      "9 coca cola\n",
      "10 pepsi\n",
      "11 lassi\n",
      "12 shirt\n",
      "13 jeans\n",
      "14 pant\n",
      "15 coat\n",
      "16 scarf\n",
      "17 badminton\n",
      "18 cricket kit\n",
      "19 ball\n",
      "20 hockey\n",
      "21 box\n",
      "22 pencil\n",
      "23 drawing book\n",
      "24 stationary box\n",
      "25 candles\n",
      "26 lighting\n",
      "27 bed sheet\n",
      "28 curtains\n",
      "***************************************************\n",
      "enter the no of items  you want to purchase: 2\n",
      "enter the product id : 202113\n",
      "enter the quantity: 13\n",
      "product- shirt\n",
      "Category- clothes\n",
      "Price- 600\n",
      "quantity 13\n",
      "Expiry date no\n",
      "time of purchase- Mon Sep  6 22:30:47 2021\n",
      "***************************************************\n",
      "your amount is :  7800\n",
      "***************************************************\n",
      "enter the product id : 202126\n",
      "enter the quantity: 20\n",
      "product- candles\n",
      "Category- decoration\n",
      "Price- 35\n",
      "quantity 20\n",
      "Expiry date 2023\n",
      "time of purchase- Mon Sep  6 22:30:57 2021\n",
      "***************************************************\n",
      "your amount is :  700\n",
      "***************************************************\n",
      "your total purchase amount is- 8500\n"
     ]
    }
   ],
   "source": [
    "print(\"here is the list of items available\")\n",
    "print(\"***************************************************\")\n",
    "j=1\n",
    "for i in records:\n",
    "    print(j,records[i][\"Product\"])\n",
    "    j+=1\n",
    "print(\"***************************************************\") \n",
    "n=int(input(\"enter the no of items  you want to purchase: \"))\n",
    "s=0\n",
    "for i in range(n):\n",
    "    pro_id=input(\"enter the product id : \" )\n",
    "    quant=int(input(\"enter the quantity: \"))\n",
    "    if(quant<=records[pro_id]['Quantity']):\n",
    "        if pro_id in records.keys():\n",
    "            print (\"product-\",records[pro_id]['Product'])\n",
    "            print(\"Category-\",records[pro_id]['Category'])\n",
    "            print(\"Price-\",records[pro_id]['Price'])\n",
    "            print(\"quantity\",quant)\n",
    "            print(\"Expiry date\",records[pro_id]['Expiry Date'])\n",
    "            print(\"time of purchase-\", time.ctime())\n",
    "            print(\"***************************************************\") \n",
    "            p=records[pro_id]['Price']*quant\n",
    "            print(\"your amount is : \",p)\n",
    "            print(\"***************************************************\") \n",
    "            records[pro_id]['Quantity']=records[pro_id]['Quantity']-quant\n",
    "            s=s+p\n",
    "            storeInJson()\n",
    "            salesInfo()\n",
    "        else:\n",
    "            print(\"invalid id\")\n",
    "    else:\n",
    "        y=quant-records[pro_id]['Quantity']\n",
    "        print(\"you have asked \",y,\"more then we have in stock\")\n",
    "print(\"your total purchase amount is-\",s)\n"
   ]
  },
  {
   "cell_type": "code",
   "execution_count": null,
   "id": "72debe02",
   "metadata": {},
   "outputs": [],
   "source": []
  },
  {
   "cell_type": "code",
   "execution_count": null,
   "id": "1c6c4390",
   "metadata": {},
   "outputs": [],
   "source": []
  },
  {
   "cell_type": "code",
   "execution_count": null,
   "id": "3d84d008",
   "metadata": {},
   "outputs": [],
   "source": []
  },
  {
   "cell_type": "code",
   "execution_count": null,
   "id": "0236561d",
   "metadata": {},
   "outputs": [],
   "source": []
  },
  {
   "cell_type": "code",
   "execution_count": null,
   "id": "c5a55746",
   "metadata": {},
   "outputs": [],
   "source": [
    "\n",
    "\n",
    "  "
   ]
  },
  {
   "cell_type": "code",
   "execution_count": null,
   "id": "f741f671",
   "metadata": {},
   "outputs": [],
   "source": []
  },
  {
   "cell_type": "code",
   "execution_count": null,
   "id": "cb528e26",
   "metadata": {},
   "outputs": [],
   "source": [
    "\n",
    "    "
   ]
  },
  {
   "cell_type": "code",
   "execution_count": 107,
   "id": "2875448a",
   "metadata": {},
   "outputs": [],
   "source": [
    "\n",
    "    \n",
    "     \n",
    "    \n",
    "    \n",
    "    "
   ]
  },
  {
   "cell_type": "code",
   "execution_count": null,
   "id": "cd9d4c4e",
   "metadata": {},
   "outputs": [],
   "source": []
  },
  {
   "cell_type": "code",
   "execution_count": null,
   "id": "0bfe57a3",
   "metadata": {},
   "outputs": [],
   "source": [
    "\n",
    "\n"
   ]
  },
  {
   "cell_type": "code",
   "execution_count": null,
   "id": "2b1f2cd9",
   "metadata": {},
   "outputs": [],
   "source": []
  },
  {
   "cell_type": "code",
   "execution_count": null,
   "id": "35188f06",
   "metadata": {},
   "outputs": [],
   "source": []
  },
  {
   "cell_type": "code",
   "execution_count": null,
   "id": "576a78f7",
   "metadata": {},
   "outputs": [],
   "source": []
  },
  {
   "cell_type": "code",
   "execution_count": null,
   "id": "5c0f9d9b",
   "metadata": {},
   "outputs": [],
   "source": []
  },
  {
   "cell_type": "code",
   "execution_count": null,
   "id": "de47efac",
   "metadata": {},
   "outputs": [],
   "source": []
  },
  {
   "cell_type": "code",
   "execution_count": null,
   "id": "bf03caa3",
   "metadata": {},
   "outputs": [],
   "source": []
  }
 ],
 "metadata": {
  "kernelspec": {
   "display_name": "Python 3",
   "language": "python",
   "name": "python3"
  },
  "language_info": {
   "codemirror_mode": {
    "name": "ipython",
    "version": 3
   },
   "file_extension": ".py",
   "mimetype": "text/x-python",
   "name": "python",
   "nbconvert_exporter": "python",
   "pygments_lexer": "ipython3",
   "version": "3.8.8"
  }
 },
 "nbformat": 4,
 "nbformat_minor": 5
}
